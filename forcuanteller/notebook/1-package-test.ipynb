{
 "cells": [
  {
   "cell_type": "code",
   "execution_count": null,
   "metadata": {},
   "outputs": [],
   "source": [
    "import yfinance\n",
    "import datetime\n",
    "from dateutil.relativedelta import relativedelta\n",
    "import ta\n",
    "from ta.volatility import BollingerBands\n",
    "from ta.momentum import RSIIndicator"
   ]
  },
  {
   "cell_type": "code",
   "execution_count": null,
   "metadata": {},
   "outputs": [],
   "source": [
    "import pandas as pd\n",
    "from ta import add_all_ta_features\n",
    "from ta.utils import dropna\n",
    "pd.options.display.max_rows = 10000"
   ]
  },
  {
   "cell_type": "code",
   "execution_count": null,
   "metadata": {},
   "outputs": [],
   "source": [
    "start_date = datetime.datetime.now() - relativedelta(days=90)\n",
    "end_date = datetime.datetime.now()"
   ]
  },
  {
   "cell_type": "code",
   "execution_count": null,
   "metadata": {},
   "outputs": [],
   "source": [
    "import yfinance as yf\n",
    "\n",
    "msft = yf.Ticker(\"MSFT\")\n",
    "\n",
    "# get historical market data\n",
    "hist = msft.history(period=\"max\", start=start_date, end=end_date, interval='1d')"
   ]
  },
  {
   "cell_type": "code",
   "execution_count": null,
   "metadata": {},
   "outputs": [],
   "source": [
    "hist"
   ]
  },
  {
   "cell_type": "code",
   "execution_count": null,
   "metadata": {},
   "outputs": [],
   "source": [
    "df = hist.copy()"
   ]
  },
  {
   "cell_type": "code",
   "execution_count": null,
   "metadata": {},
   "outputs": [],
   "source": [
    "indicator_bb = BollingerBands(close=df[\"Close\"], window=20, window_dev=2, fillna=True)\n",
    "\n",
    "# Add Bollinger Bands features\n",
    "df['bb_bbm'] = indicator_bb.bollinger_mavg()\n",
    "df['bb_bbh'] = indicator_bb.bollinger_hband()\n",
    "df['bb_bbl'] = indicator_bb.bollinger_lband()\n",
    "\n",
    "# Add Bollinger Band high indicator\n",
    "df['bb_bbhi'] = indicator_bb.bollinger_hband_indicator()\n",
    "\n",
    "# Add Bollinger Band low indicator\n",
    "df['bb_bbli'] = indicator_bb.bollinger_lband_indicator()\n",
    "\n",
    "# Add Width Size Bollinger Bands\n",
    "df['bb_bbw'] = indicator_bb.bollinger_wband()\n",
    "\n",
    "# Add Percentage Bollinger Bands\n",
    "df['bb_bbp'] = indicator_bb.bollinger_pband()"
   ]
  },
  {
   "cell_type": "code",
   "execution_count": null,
   "metadata": {
    "scrolled": true
   },
   "outputs": [],
   "source": [
    "df"
   ]
  },
  {
   "cell_type": "code",
   "execution_count": null,
   "metadata": {},
   "outputs": [],
   "source": [
    "df = hist.copy()"
   ]
  },
  {
   "cell_type": "code",
   "execution_count": null,
   "metadata": {},
   "outputs": [],
   "source": [
    "indicator_rsi = RSIIndicator(close= df['Close'], window=21, fillna=True)"
   ]
  },
  {
   "cell_type": "code",
   "execution_count": null,
   "metadata": {},
   "outputs": [],
   "source": [
    "df['rsi'] = indicator_rsi.rsi()"
   ]
  },
  {
   "cell_type": "code",
   "execution_count": null,
   "metadata": {},
   "outputs": [],
   "source": [
    "df"
   ]
  },
  {
   "cell_type": "code",
   "execution_count": null,
   "metadata": {},
   "outputs": [],
   "source": [
    "df = hist.copy()"
   ]
  },
  {
   "cell_type": "code",
   "execution_count": null,
   "metadata": {},
   "outputs": [],
   "source": [
    "indicator_macd = ta.trend.MACD(close= df['Close'],\n",
    "                               window_slow = 26, \n",
    "                               window_fast = 12,\n",
    "                               window_sign = 9,\n",
    "                               fillna= True)"
   ]
  },
  {
   "cell_type": "code",
   "execution_count": null,
   "metadata": {},
   "outputs": [],
   "source": [
    "df['macd'] = indicator_macd.macd()\n",
    "df['macd_diff'] = indicator_macd.macd_diff()\n",
    "df['macd_signal'] = indicator_macd.macd_signal()"
   ]
  },
  {
   "cell_type": "code",
   "execution_count": null,
   "metadata": {},
   "outputs": [],
   "source": [
    "df"
   ]
  }
 ],
 "metadata": {
  "kernelspec": {
   "display_name": "forcuanteller",
   "language": "python",
   "name": "forcuanteller"
  },
  "language_info": {
   "codemirror_mode": {
    "name": "ipython",
    "version": 3
   },
   "file_extension": ".py",
   "mimetype": "text/x-python",
   "name": "python",
   "nbconvert_exporter": "python",
   "pygments_lexer": "ipython3",
   "version": "3.7.4"
  },
  "toc": {
   "base_numbering": 1,
   "nav_menu": {},
   "number_sections": true,
   "sideBar": true,
   "skip_h1_title": false,
   "title_cell": "Table of Contents",
   "title_sidebar": "Contents",
   "toc_cell": false,
   "toc_position": {},
   "toc_section_display": true,
   "toc_window_display": false
  }
 },
 "nbformat": 4,
 "nbformat_minor": 2
}
